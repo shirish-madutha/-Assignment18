{
 "cells": [
  {
   "cell_type": "code",
   "execution_count": null,
   "id": "5b5fc100-1b2d-4499-a0ee-7e87d5d64177",
   "metadata": {},
   "outputs": [],
   "source": [
    "# Q1. What is Flask Framework? What are the advantages of Flask Framework?\n",
    "\n",
    "# ans\n",
    "\"\"\" \n",
    "Flask is a lightweight and flexible web framework written in Python. \n",
    "It is designed to make web development simple and scalable, emphasizing a minimalistic \n",
    "approach. Flask provides tools and libraries to build web applications and APIs with ease. \n",
    "\n",
    "Here are the advantages of using the Flask framework:\n",
    "\n",
    "Simplicity and Minimalism: Flask follows a minimalistic design philosophy, keeping the \n",
    "core framework lightweight and uncluttered. It provides a simple and intuitive API that\n",
    "makes it easy to learn and use, especially for beginners in web development.\n",
    "\n",
    "Flexible and Extensible: Flask allows developers to customize and extend the framework \n",
    "according to their specific requirements. It follows a \"micro\" framework approach,\n",
    "providing only the essential features, but allows for the integration of additional \n",
    "libraries and extensions as needed. This flexibility enables developers to tailor their\n",
    "applications precisely to their needs.\n",
    "\n",
    "Modularity and Reusability: Flask promotes modularity and code reusability.\n",
    "It allows developers to break down their applications into smaller, reusable components\n",
    "called \"blueprints.\" Blueprints enable the organization and separation of application \n",
    "functionalities, making the codebase more manageable and maintainable. \"\"\""
   ]
  },
  {
   "cell_type": "code",
   "execution_count": null,
   "id": "5ebc6590-3db1-4405-ade9-9dc11a1e92e7",
   "metadata": {},
   "outputs": [],
   "source": [
    "\"\"\" Q2. Create a simple Flask application to display ‘Hello World!!’. \n",
    "Attach the screenshot of the output in Jupyter Notebook. \"\"\"\n",
    "\n",
    "# ans\n",
    "\"\"\" \n",
    "from flask import Flask\n",
    "\n",
    "app = Flask(__name__)\n",
    "\n",
    "@app.route('/')\n",
    "def hello():\n",
    "    return 'Hello World!!'\n",
    "\n",
    "if __name__ == '__main__':\n",
    "    app.run()\n",
    " \"\"\""
   ]
  },
  {
   "cell_type": "markdown",
   "id": "e825c7b0-c4db-48e2-88e8-e97fced6cc86",
   "metadata": {},
   "source": [
    "<img src=\"helloworld.jpg.png\"/>"
   ]
  },
  {
   "cell_type": "code",
   "execution_count": null,
   "id": "e1ffd4d3-3b3d-4692-8280-e50642e3e8d6",
   "metadata": {},
   "outputs": [],
   "source": [
    "# Q3. What is App routing in Flask? Why do we use app routes?\n",
    "\n",
    "# ans\n",
    "\"\"\" In Flask, app routing refers to the process of mapping URLs (or routes) to specific\n",
    "functions or views in a web application. It determines how the application responds to\n",
    "different URL patterns and what content is displayed to the user. \n",
    "\n",
    "We use app routes in Flask for several reasons:\n",
    "\n",
    "URL Mapping: App routes allow us to map different URLs to specific functions, enabling \n",
    "us to define the behavior and content of different pages or endpoints in our application.\n",
    "\n",
    "Endpoint Design: By using app routes, we can design a clean and logical structure for our\n",
    "application's endpoints, making it easier to navigate and understand the functionality\n",
    "provided by each route.\n",
    "\n",
    "Dynamic Routing: Flask provides features for dynamic routing, allowing us to define \n",
    "routes with parameters that can change dynamically based on user input or other factors.\n",
    "This flexibility enables us to create dynamic and data-driven applications.\"\"\""
   ]
  },
  {
   "cell_type": "code",
   "execution_count": null,
   "id": "e27e517b-4c0d-4e7f-909e-add20ad961c5",
   "metadata": {},
   "outputs": [],
   "source": [
    "\"\"\" Q4. Create a “/welcome” route to display the welcome message “Welcome to ABC Corporation” and a “/”\n",
    "route to show the following details:\n",
    "Company Name: ABC Corporation\n",
    "Location: India\n",
    "Contact Detail: 999-999-9999 \"\"\"\n",
    "\n",
    "# ans\n",
    "\"\"\" \n",
    "from flask import Flask\n",
    "\n",
    "app = Flask(__name__)\n",
    "\n",
    "@app.route('/welcome')\n",
    "def welcome():\n",
    "    return 'Welcome to ABC Corporation'\n",
    "\n",
    "@app.route('/')\n",
    "def company_details():\n",
    "    return '''Company Name: ABC Corporation\n",
    "              Location: India\n",
    "              Contact Detail: 999-999-9999'''\n",
    "\n",
    "if __name__ == '__main__':\n",
    "    app.run()\n",
    " \"\"\""
   ]
  },
  {
   "cell_type": "markdown",
   "id": "7ee7cdbb-f191-4c3a-813f-35547f38b8da",
   "metadata": {},
   "source": [
    "<img src=\"jupi.png\"/>"
   ]
  },
  {
   "cell_type": "code",
   "execution_count": null,
   "id": "a85c9121-c32a-4492-b4cb-515c97247dbc",
   "metadata": {},
   "outputs": [],
   "source": [
    "\"\"\" Q5. What function is used in Flask for URL Building? Write a Python code to\n",
    "demonstrate the working of the url_for() function. \"\"\"\n",
    "\n",
    "# ans\n",
    "\"\"\" \n",
    "from flask import Flask, url_for\n",
    "\n",
    "app = Flask(__name__)\n",
    "\n",
    "@app.route('/hello')\n",
    "def hello():\n",
    "    return 'Hello, Flask!'\n",
    "\n",
    "@app.route('/user/<username>')\n",
    "def user_profile(username):\n",
    "    return f'Welcome, {username}'\n",
    "\n",
    "if __name__ == '__main__':\n",
    "    with app.test_request_context():\n",
    "        print(url_for('hello'))  # Output: /hello\n",
    "        print(url_for('user_profile', username='John'))  # Output: /user/John\n",
    "\"\"\""
   ]
  }
 ],
 "metadata": {
  "kernelspec": {
   "display_name": "Python 3 (ipykernel)",
   "language": "python",
   "name": "python3"
  },
  "language_info": {
   "codemirror_mode": {
    "name": "ipython",
    "version": 3
   },
   "file_extension": ".py",
   "mimetype": "text/x-python",
   "name": "python",
   "nbconvert_exporter": "python",
   "pygments_lexer": "ipython3",
   "version": "3.10.8"
  }
 },
 "nbformat": 4,
 "nbformat_minor": 5
}
